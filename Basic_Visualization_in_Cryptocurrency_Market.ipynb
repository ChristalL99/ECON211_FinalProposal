{
  "nbformat": 4,
  "nbformat_minor": 0,
  "metadata": {
    "colab": {
      "name": "Basic_Visualization_in_Cryptocurrency_Market",
      "provenance": [],
      "collapsed_sections": [],
      "authorship_tag": "ABX9TyPFTB2t9h+jKawkbiFpgTQt",
      "include_colab_link": true
    },
    "kernelspec": {
      "name": "python3",
      "display_name": "Python 3"
    }
  },
  "cells": [
    {
      "cell_type": "markdown",
      "metadata": {
        "id": "view-in-github",
        "colab_type": "text"
      },
      "source": [
        "<a href=\"https://colab.research.google.com/github/ChristalL99/ECON211_FinalProposal/blob/main/Basic_Visualization_in_Cryptocurrency_Market.ipynb\" target=\"_parent\"><img src=\"https://colab.research.google.com/assets/colab-badge.svg\" alt=\"Open In Colab\"/></a>"
      ]
    },
    {
      "cell_type": "code",
      "metadata": {
        "id": "ZFSlMb18e3OC"
      },
      "source": [
        "import pandas as pd\r\n",
        "import numpy as np\r\n",
        "import matplotlib.pyplot as plt"
      ],
      "execution_count": 1,
      "outputs": []
    },
    {
      "cell_type": "code",
      "metadata": {
        "colab": {
          "base_uri": "https://localhost:8080/",
          "height": 419
        },
        "id": "ZM50UJO7fNtU",
        "outputId": "6b7a9fa0-9028-41f4-9fde-7660a5cb8003"
      },
      "source": [
        "# read the data of Bitcoin\r\n",
        "data1 = pd.read_csv(\"https://raw.githubusercontent.com/ChristalL99/ECON211_FinalProposal/main/btc.csv\")\r\n",
        "data1 = data1[[\"date\",\"CapMrktCurUSD\",\"CapRealUSD\",\"PriceUSD\",\"SplyCur\"]]\r\n",
        "data1 = data1[data1[\"date\"]>='2020-01-01']\r\n",
        "data1 = data1[data1[\"date\"]<='2020-12-31']\r\n",
        "data1"
      ],
      "execution_count": 24,
      "outputs": [
        {
          "output_type": "execute_result",
          "data": {
            "text/html": [
              "<div>\n",
              "<style scoped>\n",
              "    .dataframe tbody tr th:only-of-type {\n",
              "        vertical-align: middle;\n",
              "    }\n",
              "\n",
              "    .dataframe tbody tr th {\n",
              "        vertical-align: top;\n",
              "    }\n",
              "\n",
              "    .dataframe thead th {\n",
              "        text-align: right;\n",
              "    }\n",
              "</style>\n",
              "<table border=\"1\" class=\"dataframe\">\n",
              "  <thead>\n",
              "    <tr style=\"text-align: right;\">\n",
              "      <th></th>\n",
              "      <th>date</th>\n",
              "      <th>CapMrktCurUSD</th>\n",
              "      <th>CapRealUSD</th>\n",
              "      <th>PriceUSD</th>\n",
              "      <th>SplyCur</th>\n",
              "    </tr>\n",
              "  </thead>\n",
              "  <tbody>\n",
              "    <tr>\n",
              "      <th>4015</th>\n",
              "      <td>2020-01-01</td>\n",
              "      <td>1.300444e+11</td>\n",
              "      <td>1.010104e+11</td>\n",
              "      <td>7170.631869</td>\n",
              "      <td>1.813569e+07</td>\n",
              "    </tr>\n",
              "    <tr>\n",
              "      <th>4016</th>\n",
              "      <td>2020-01-02</td>\n",
              "      <td>1.259977e+11</td>\n",
              "      <td>1.009958e+11</td>\n",
              "      <td>6946.825269</td>\n",
              "      <td>1.813745e+07</td>\n",
              "    </tr>\n",
              "    <tr>\n",
              "      <th>4017</th>\n",
              "      <td>2020-01-03</td>\n",
              "      <td>1.326965e+11</td>\n",
              "      <td>1.010417e+11</td>\n",
              "      <td>7315.309360</td>\n",
              "      <td>1.813957e+07</td>\n",
              "    </tr>\n",
              "    <tr>\n",
              "      <th>4018</th>\n",
              "      <td>2020-01-04</td>\n",
              "      <td>1.332172e+11</td>\n",
              "      <td>1.010364e+11</td>\n",
              "      <td>7343.164194</td>\n",
              "      <td>1.814167e+07</td>\n",
              "    </tr>\n",
              "    <tr>\n",
              "      <th>4019</th>\n",
              "      <td>2020-01-05</td>\n",
              "      <td>1.332751e+11</td>\n",
              "      <td>1.010491e+11</td>\n",
              "      <td>7345.530692</td>\n",
              "      <td>1.814370e+07</td>\n",
              "    </tr>\n",
              "    <tr>\n",
              "      <th>...</th>\n",
              "      <td>...</td>\n",
              "      <td>...</td>\n",
              "      <td>...</td>\n",
              "      <td>...</td>\n",
              "      <td>...</td>\n",
              "    </tr>\n",
              "    <tr>\n",
              "      <th>4376</th>\n",
              "      <td>2020-12-27</td>\n",
              "      <td>4.911576e+11</td>\n",
              "      <td>1.618915e+11</td>\n",
              "      <td>26430.856597</td>\n",
              "      <td>1.858273e+07</td>\n",
              "    </tr>\n",
              "    <tr>\n",
              "      <th>4377</th>\n",
              "      <td>2020-12-28</td>\n",
              "      <td>5.024921e+11</td>\n",
              "      <td>1.656552e+11</td>\n",
              "      <td>27039.349020</td>\n",
              "      <td>1.858373e+07</td>\n",
              "    </tr>\n",
              "    <tr>\n",
              "      <th>4378</th>\n",
              "      <td>2020-12-29</td>\n",
              "      <td>5.060833e+11</td>\n",
              "      <td>1.683068e+11</td>\n",
              "      <td>27231.203455</td>\n",
              "      <td>1.858468e+07</td>\n",
              "    </tr>\n",
              "    <tr>\n",
              "      <th>4379</th>\n",
              "      <td>2020-12-30</td>\n",
              "      <td>5.360990e+11</td>\n",
              "      <td>1.702719e+11</td>\n",
              "      <td>28844.613678</td>\n",
              "      <td>1.858576e+07</td>\n",
              "    </tr>\n",
              "    <tr>\n",
              "      <th>4380</th>\n",
              "      <td>2020-12-31</td>\n",
              "      <td>5.394385e+11</td>\n",
              "      <td>1.717412e+11</td>\n",
              "      <td>29022.671413</td>\n",
              "      <td>1.858680e+07</td>\n",
              "    </tr>\n",
              "  </tbody>\n",
              "</table>\n",
              "<p>366 rows × 5 columns</p>\n",
              "</div>"
            ],
            "text/plain": [
              "            date  CapMrktCurUSD    CapRealUSD      PriceUSD       SplyCur\n",
              "4015  2020-01-01   1.300444e+11  1.010104e+11   7170.631869  1.813569e+07\n",
              "4016  2020-01-02   1.259977e+11  1.009958e+11   6946.825269  1.813745e+07\n",
              "4017  2020-01-03   1.326965e+11  1.010417e+11   7315.309360  1.813957e+07\n",
              "4018  2020-01-04   1.332172e+11  1.010364e+11   7343.164194  1.814167e+07\n",
              "4019  2020-01-05   1.332751e+11  1.010491e+11   7345.530692  1.814370e+07\n",
              "...          ...            ...           ...           ...           ...\n",
              "4376  2020-12-27   4.911576e+11  1.618915e+11  26430.856597  1.858273e+07\n",
              "4377  2020-12-28   5.024921e+11  1.656552e+11  27039.349020  1.858373e+07\n",
              "4378  2020-12-29   5.060833e+11  1.683068e+11  27231.203455  1.858468e+07\n",
              "4379  2020-12-30   5.360990e+11  1.702719e+11  28844.613678  1.858576e+07\n",
              "4380  2020-12-31   5.394385e+11  1.717412e+11  29022.671413  1.858680e+07\n",
              "\n",
              "[366 rows x 5 columns]"
            ]
          },
          "metadata": {
            "tags": []
          },
          "execution_count": 24
        }
      ]
    },
    {
      "cell_type": "code",
      "metadata": {
        "colab": {
          "base_uri": "https://localhost:8080/",
          "height": 419
        },
        "id": "-MGC0SN6hj4s",
        "outputId": "edfeba17-4b3b-414f-ede1-d3e9211bd06e"
      },
      "source": [
        "# read the data of Litecoin\r\n",
        "data2 = pd.read_csv(\"https://raw.githubusercontent.com/ChristalL99/ECON211_FinalProposal/main/ltc.csv\")\r\n",
        "data2 = data2[[\"date\",\"CapMrktCurUSD\",\"CapRealUSD\",\"PriceUSD\",\"SplyCur\"]]\r\n",
        "data2 = data2[data2[\"date\"]>='2020-01-01']\r\n",
        "data2 = data2[data2[\"date\"]<='2020-12-31']\r\n",
        "data2"
      ],
      "execution_count": 27,
      "outputs": [
        {
          "output_type": "execute_result",
          "data": {
            "text/html": [
              "<div>\n",
              "<style scoped>\n",
              "    .dataframe tbody tr th:only-of-type {\n",
              "        vertical-align: middle;\n",
              "    }\n",
              "\n",
              "    .dataframe tbody tr th {\n",
              "        vertical-align: top;\n",
              "    }\n",
              "\n",
              "    .dataframe thead th {\n",
              "        text-align: right;\n",
              "    }\n",
              "</style>\n",
              "<table border=\"1\" class=\"dataframe\">\n",
              "  <thead>\n",
              "    <tr style=\"text-align: right;\">\n",
              "      <th></th>\n",
              "      <th>date</th>\n",
              "      <th>CapMrktCurUSD</th>\n",
              "      <th>CapRealUSD</th>\n",
              "      <th>PriceUSD</th>\n",
              "      <th>SplyCur</th>\n",
              "    </tr>\n",
              "  </thead>\n",
              "  <tbody>\n",
              "    <tr>\n",
              "      <th>3008</th>\n",
              "      <td>2020-01-01</td>\n",
              "      <td>2.652466e+09</td>\n",
              "      <td>4.677944e+09</td>\n",
              "      <td>41.415746</td>\n",
              "      <td>6.404486e+07</td>\n",
              "    </tr>\n",
              "    <tr>\n",
              "      <th>3009</th>\n",
              "      <td>2020-01-02</td>\n",
              "      <td>2.518452e+09</td>\n",
              "      <td>4.670575e+09</td>\n",
              "      <td>39.319110</td>\n",
              "      <td>6.405161e+07</td>\n",
              "    </tr>\n",
              "    <tr>\n",
              "      <th>3010</th>\n",
              "      <td>2020-01-03</td>\n",
              "      <td>2.691448e+09</td>\n",
              "      <td>4.671471e+09</td>\n",
              "      <td>42.015199</td>\n",
              "      <td>6.405891e+07</td>\n",
              "    </tr>\n",
              "    <tr>\n",
              "      <th>3011</th>\n",
              "      <td>2020-01-04</td>\n",
              "      <td>2.733125e+09</td>\n",
              "      <td>4.671788e+09</td>\n",
              "      <td>42.660889</td>\n",
              "      <td>6.406628e+07</td>\n",
              "    </tr>\n",
              "    <tr>\n",
              "      <th>3012</th>\n",
              "      <td>2020-01-05</td>\n",
              "      <td>2.767877e+09</td>\n",
              "      <td>4.670771e+09</td>\n",
              "      <td>43.198314</td>\n",
              "      <td>6.407372e+07</td>\n",
              "    </tr>\n",
              "    <tr>\n",
              "      <th>...</th>\n",
              "      <td>...</td>\n",
              "      <td>...</td>\n",
              "      <td>...</td>\n",
              "      <td>...</td>\n",
              "      <td>...</td>\n",
              "    </tr>\n",
              "    <tr>\n",
              "      <th>3369</th>\n",
              "      <td>2020-12-27</td>\n",
              "      <td>8.573515e+09</td>\n",
              "      <td>5.035354e+09</td>\n",
              "      <td>128.627461</td>\n",
              "      <td>6.665384e+07</td>\n",
              "    </tr>\n",
              "    <tr>\n",
              "      <th>3370</th>\n",
              "      <td>2020-12-28</td>\n",
              "      <td>8.682847e+09</td>\n",
              "      <td>5.086912e+09</td>\n",
              "      <td>130.253567</td>\n",
              "      <td>6.666111e+07</td>\n",
              "    </tr>\n",
              "    <tr>\n",
              "      <th>3371</th>\n",
              "      <td>2020-12-29</td>\n",
              "      <td>8.554473e+09</td>\n",
              "      <td>5.124981e+09</td>\n",
              "      <td>128.313966</td>\n",
              "      <td>6.666829e+07</td>\n",
              "    </tr>\n",
              "    <tr>\n",
              "      <th>3372</th>\n",
              "      <td>2020-12-30</td>\n",
              "      <td>8.579417e+09</td>\n",
              "      <td>5.157524e+09</td>\n",
              "      <td>128.674722</td>\n",
              "      <td>6.667523e+07</td>\n",
              "    </tr>\n",
              "    <tr>\n",
              "      <th>3373</th>\n",
              "      <td>2020-12-31</td>\n",
              "      <td>8.323489e+09</td>\n",
              "      <td>5.167749e+09</td>\n",
              "      <td>124.822577</td>\n",
              "      <td>6.668256e+07</td>\n",
              "    </tr>\n",
              "  </tbody>\n",
              "</table>\n",
              "<p>366 rows × 5 columns</p>\n",
              "</div>"
            ],
            "text/plain": [
              "            date  CapMrktCurUSD    CapRealUSD    PriceUSD       SplyCur\n",
              "3008  2020-01-01   2.652466e+09  4.677944e+09   41.415746  6.404486e+07\n",
              "3009  2020-01-02   2.518452e+09  4.670575e+09   39.319110  6.405161e+07\n",
              "3010  2020-01-03   2.691448e+09  4.671471e+09   42.015199  6.405891e+07\n",
              "3011  2020-01-04   2.733125e+09  4.671788e+09   42.660889  6.406628e+07\n",
              "3012  2020-01-05   2.767877e+09  4.670771e+09   43.198314  6.407372e+07\n",
              "...          ...            ...           ...         ...           ...\n",
              "3369  2020-12-27   8.573515e+09  5.035354e+09  128.627461  6.665384e+07\n",
              "3370  2020-12-28   8.682847e+09  5.086912e+09  130.253567  6.666111e+07\n",
              "3371  2020-12-29   8.554473e+09  5.124981e+09  128.313966  6.666829e+07\n",
              "3372  2020-12-30   8.579417e+09  5.157524e+09  128.674722  6.667523e+07\n",
              "3373  2020-12-31   8.323489e+09  5.167749e+09  124.822577  6.668256e+07\n",
              "\n",
              "[366 rows x 5 columns]"
            ]
          },
          "metadata": {
            "tags": []
          },
          "execution_count": 27
        }
      ]
    },
    {
      "cell_type": "code",
      "metadata": {
        "colab": {
          "base_uri": "https://localhost:8080/",
          "height": 419
        },
        "id": "0FsiOcdfjsX6",
        "outputId": "a00fcca5-9fb5-41dc-f7e1-67a3be982eb5"
      },
      "source": [
        "# read the data of Litecoin\r\n",
        "data3 = pd.read_csv(\"https://raw.githubusercontent.com/ChristalL99/ECON211_FinalProposal/main/wtc.csv\")\r\n",
        "data3 = data3[[\"date\",\"CapMrktCurUSD\",\"PriceUSD\",\"SplyCur\"]]\r\n",
        "data3 = data3[data3[\"date\"]>='2020-01-01']\r\n",
        "data3 = data3[data3[\"date\"]<='2020-12-31']\r\n",
        "data3"
      ],
      "execution_count": 29,
      "outputs": [
        {
          "output_type": "execute_result",
          "data": {
            "text/html": [
              "<div>\n",
              "<style scoped>\n",
              "    .dataframe tbody tr th:only-of-type {\n",
              "        vertical-align: middle;\n",
              "    }\n",
              "\n",
              "    .dataframe tbody tr th {\n",
              "        vertical-align: top;\n",
              "    }\n",
              "\n",
              "    .dataframe thead th {\n",
              "        text-align: right;\n",
              "    }\n",
              "</style>\n",
              "<table border=\"1\" class=\"dataframe\">\n",
              "  <thead>\n",
              "    <tr style=\"text-align: right;\">\n",
              "      <th></th>\n",
              "      <th>date</th>\n",
              "      <th>CapMrktCurUSD</th>\n",
              "      <th>PriceUSD</th>\n",
              "      <th>SplyCur</th>\n",
              "    </tr>\n",
              "  </thead>\n",
              "  <tbody>\n",
              "    <tr>\n",
              "      <th>897</th>\n",
              "      <td>2020-01-01</td>\n",
              "      <td>2.501696e+07</td>\n",
              "      <td>0.357385</td>\n",
              "      <td>70000000</td>\n",
              "    </tr>\n",
              "    <tr>\n",
              "      <th>898</th>\n",
              "      <td>2020-01-02</td>\n",
              "      <td>2.360691e+07</td>\n",
              "      <td>0.337242</td>\n",
              "      <td>70000000</td>\n",
              "    </tr>\n",
              "    <tr>\n",
              "      <th>899</th>\n",
              "      <td>2020-01-03</td>\n",
              "      <td>2.757046e+07</td>\n",
              "      <td>0.393864</td>\n",
              "      <td>70000000</td>\n",
              "    </tr>\n",
              "    <tr>\n",
              "      <th>900</th>\n",
              "      <td>2020-01-04</td>\n",
              "      <td>2.648720e+07</td>\n",
              "      <td>0.378389</td>\n",
              "      <td>70000000</td>\n",
              "    </tr>\n",
              "    <tr>\n",
              "      <th>901</th>\n",
              "      <td>2020-01-05</td>\n",
              "      <td>2.676871e+07</td>\n",
              "      <td>0.382410</td>\n",
              "      <td>70000000</td>\n",
              "    </tr>\n",
              "    <tr>\n",
              "      <th>...</th>\n",
              "      <td>...</td>\n",
              "      <td>...</td>\n",
              "      <td>...</td>\n",
              "      <td>...</td>\n",
              "    </tr>\n",
              "    <tr>\n",
              "      <th>1258</th>\n",
              "      <td>2020-12-27</td>\n",
              "      <td>1.939091e+07</td>\n",
              "      <td>0.277013</td>\n",
              "      <td>70000000</td>\n",
              "    </tr>\n",
              "    <tr>\n",
              "      <th>1259</th>\n",
              "      <td>2020-12-28</td>\n",
              "      <td>1.966678e+07</td>\n",
              "      <td>0.280954</td>\n",
              "      <td>70000000</td>\n",
              "    </tr>\n",
              "    <tr>\n",
              "      <th>1260</th>\n",
              "      <td>2020-12-29</td>\n",
              "      <td>2.014771e+07</td>\n",
              "      <td>0.287824</td>\n",
              "      <td>70000000</td>\n",
              "    </tr>\n",
              "    <tr>\n",
              "      <th>1261</th>\n",
              "      <td>2020-12-30</td>\n",
              "      <td>1.925387e+07</td>\n",
              "      <td>0.275055</td>\n",
              "      <td>70000000</td>\n",
              "    </tr>\n",
              "    <tr>\n",
              "      <th>1262</th>\n",
              "      <td>2020-12-31</td>\n",
              "      <td>1.933077e+07</td>\n",
              "      <td>0.276154</td>\n",
              "      <td>70000000</td>\n",
              "    </tr>\n",
              "  </tbody>\n",
              "</table>\n",
              "<p>366 rows × 4 columns</p>\n",
              "</div>"
            ],
            "text/plain": [
              "            date  CapMrktCurUSD  PriceUSD   SplyCur\n",
              "897   2020-01-01   2.501696e+07  0.357385  70000000\n",
              "898   2020-01-02   2.360691e+07  0.337242  70000000\n",
              "899   2020-01-03   2.757046e+07  0.393864  70000000\n",
              "900   2020-01-04   2.648720e+07  0.378389  70000000\n",
              "901   2020-01-05   2.676871e+07  0.382410  70000000\n",
              "...          ...            ...       ...       ...\n",
              "1258  2020-12-27   1.939091e+07  0.277013  70000000\n",
              "1259  2020-12-28   1.966678e+07  0.280954  70000000\n",
              "1260  2020-12-29   2.014771e+07  0.287824  70000000\n",
              "1261  2020-12-30   1.925387e+07  0.275055  70000000\n",
              "1262  2020-12-31   1.933077e+07  0.276154  70000000\n",
              "\n",
              "[366 rows x 4 columns]"
            ]
          },
          "metadata": {
            "tags": []
          },
          "execution_count": 29
        }
      ]
    },
    {
      "cell_type": "code",
      "metadata": {
        "colab": {
          "base_uri": "https://localhost:8080/",
          "height": 302
        },
        "id": "9KJ9W3iAre5F",
        "outputId": "c8c238ae-a25b-4dc2-9761-ee66016683a5"
      },
      "source": [
        "# visualization of Bitcoin's real market capacity and market capacity in 2020\r\n",
        "x = data1[\"date\"]\r\n",
        "y = data1[\"CapMrktCurUSD\"]\r\n",
        "z = data1[\"CapRealUSD\"]\r\n",
        "\r\n",
        "plt.plot(x, y, label = \"Current Market Capacity\")\r\n",
        "plt.plot(x, z, 'r', label = \"Real Market Capacity\")\r\n",
        "plt.xticks(\"\")\r\n",
        "plt.xlabel(\"Date\")\r\n",
        "plt.ylabel(\"Capacity in USD\")\r\n",
        "plt.legend()\r\n",
        "plt.title(\"Bitcoin’s Market Capacity in 2020\")"
      ],
      "execution_count": 34,
      "outputs": [
        {
          "output_type": "execute_result",
          "data": {
            "text/plain": [
              "Text(0.5, 1.0, 'Bitcoin’s Market Capacity in 2020')"
            ]
          },
          "metadata": {
            "tags": []
          },
          "execution_count": 34
        },
        {
          "output_type": "display_data",
          "data": {
            "image/png": "[encoded data removed]",
            "text/plain": [
              "<Figure size 432x288 with 1 Axes>"
            ]
          },
          "metadata": {
            "tags": [],
            "needs_background": "light"
          }
        }
      ]
    },
    {
      "cell_type": "code",
      "metadata": {
        "colab": {
          "base_uri": "https://localhost:8080/",
          "height": 302
        },
        "id": "QJGnhokroqNS",
        "outputId": "53ac5852-1a0f-4062-cdf8-5d53b0c266d0"
      },
      "source": [
        "# visualization of the current price of Bitcoin, Litecoin, Waltonchain in 2020\r\n",
        "x1 = data1[\"date\"]\r\n",
        "y1 = data1[\"PriceUSD\"]\r\n",
        "x2 = data1[\"date\"]\r\n",
        "y2 = data2[\"PriceUSD\"]\r\n",
        "x3 = data1[\"date\"]\r\n",
        "y3 = data3[\"PriceUSD\"]\r\n",
        "\r\n",
        "plt.plot(x1, y1, label = \"Bitcoin\")\r\n",
        "plt.plot(x2, y2, label = \"Litecoin\")\r\n",
        "plt.plot(x3, y3, label = \"Waltonchain\")\r\n",
        "plt.xticks(\"\")\r\n",
        "plt.xlabel(\"Date\")\r\n",
        "plt.yscale(\"log\")\r\n",
        "plt.ylabel(\"Current Price in USD\")\r\n",
        "plt.legend()\r\n",
        "plt.title(\"The Current Price of Bitcoin, Litecoin, and Waltonchain in 2020\")"
      ],
      "execution_count": 39,
      "outputs": [
        {
          "output_type": "execute_result",
          "data": {
            "text/plain": [
              "Text(0.5, 1.0, 'The Current Price of Bitcoin, Litecoin, and Waltonchain in 2020')"
            ]
          },
          "metadata": {
            "tags": []
          },
          "execution_count": 39
        },
        {
          "output_type": "display_data",
          "data": {
            "image/png": "[encoded data removed]",
            "text/plain": [
              "<Figure size 432x288 with 1 Axes>"
            ]
          },
          "metadata": {
            "tags": [],
            "needs_background": "light"
          }
        }
      ]
    }
  ]
}